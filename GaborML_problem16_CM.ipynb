{
 "cells": [
  {
   "cell_type": "markdown",
   "metadata": {},
   "source": [
    "Gabor ML - Problem 16\n",
    "\n",
    "-Clarice Mottet\n",
    "\n",
    "Outline:\n",
    "-generate training data\n",
    "    -x_i multivariate normal distribution (mean zero, covariance diagonal (1/1...d))\n",
    "    -y_i sum(x_i) + e_i where e_i standard normal random variable\n",
    "-predict y as a linear function wTX of X\n",
    "-measure performance by mean squared error R(w) = E(wTX-Y)^2\n",
    "-write program that learns vector w by OLS\n",
    "-write program that learns vector w by GD\n",
    "-write program that learns vector w by SGD\n",
    "-compare performance by mean squared error and running time for multiple n and d and step size n_t"
   ]
  },
  {
   "cell_type": "code",
   "execution_count": 3,
   "metadata": {},
   "outputs": [],
   "source": [
    "#libraries\n",
    "import pandas as pd\n",
    "import numpy as np\n",
    "import random\n",
    "import matplotlib.pyplot as plt\n",
    "\n",
    "path_out_ = r'/home/clarice/Documents/VSCode/Term2_Gabor_ML/homework4/GaborML_problem16/outputs'\n",
    "random.seed(123)"
   ]
  },
  {
   "cell_type": "code",
   "execution_count": null,
   "metadata": {},
   "outputs": [],
   "source": [
    "#functions\n",
    "\n",
    "def generate_data(n, d):\n",
    "\n",
    "    #covariance matrix\n",
    "    cov = np.identity(d)    \n",
    "    for i in range(d):\n",
    "        cov[i,i] = 1/(i+1)\n",
    "\n",
    "    #x\n",
    "    x = np.random.multivariate_normal(np.zeros(d), cov, n)\n",
    "\n",
    "    #y\n",
    "    y = np.zeros(n)\n",
    "    e = np.random.normal(0, 1, n)\n",
    "    for i in range(n):\n",
    "        y[i] = sum(x[i]) + e[i]\n",
    "\n",
    "    return x, y\n",
    "        \n",
    "        \n",
    "            \n"
   ]
  },
  {
   "cell_type": "code",
   "execution_count": 24,
   "metadata": {},
   "outputs": [
    {
     "name": "stdout",
     "output_type": "stream",
     "text": [
      "[[ 0.19975299  1.24871933  0.2077985   0.20460925]\n",
      " [ 2.43382726 -0.66190346  1.18392529  0.76469286]\n",
      " [-1.41255396 -0.31107659  0.58370829 -0.73354036]]\n",
      "sum_x 1.8608800605303506\n",
      "sum_x 3.720541935450088\n",
      "sum_x -1.873462620586202\n",
      "-0.7691376089075934\n",
      "e [-0.53095965  1.16457974  0.53451655]\n",
      "1.1645797395643673\n"
     ]
    }
   ],
   "source": [
    "n = 3\n",
    "d = 4\n",
    "\n",
    "cov = np.identity(d)\n",
    "# print(cov)\n",
    "\n",
    "for i in range(d):\n",
    "    cov[i,i] = 1/(i+1)\n",
    "    # print(cov[i,i])\n",
    "\n",
    "x = np.random.multivariate_normal(np.zeros(d), cov, n)\n",
    "print(x)\n",
    "\n",
    "for i in range(n):\n",
    "    sum_x = sum(x[i])\n",
    "    print(\"sum_x\",sum_x)\n",
    "\n",
    "e_i = np.random.normal(0, 1)\n",
    "print(e_i)\n",
    "\n",
    "e = np.random.normal(0, 1, n)\n",
    "print(\"e\",e)\n",
    "print(e[1])\n",
    "    "
   ]
  },
  {
   "cell_type": "code",
   "execution_count": null,
   "metadata": {},
   "outputs": [],
   "source": []
  }
 ],
 "metadata": {
  "kernelspec": {
   "display_name": "Python 3",
   "language": "python",
   "name": "python3"
  },
  "language_info": {
   "codemirror_mode": {
    "name": "ipython",
    "version": 3
   },
   "file_extension": ".py",
   "mimetype": "text/x-python",
   "name": "python",
   "nbconvert_exporter": "python",
   "pygments_lexer": "ipython3",
   "version": "3.10.12"
  }
 },
 "nbformat": 4,
 "nbformat_minor": 2
}
