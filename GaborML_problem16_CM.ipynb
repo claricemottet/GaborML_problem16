{
 "cells": [
  {
   "cell_type": "markdown",
   "metadata": {},
   "source": [
    "Gabor ML - Problem 16\n",
    "\n",
    "-Clarice Mottet\n",
    "\n",
    "Outline:\n",
    "-generate training data\n",
    "    -x_i multivariate normal distribution (mean zero, covariance diagonal (1/1...d))\n",
    "    -y_i sum(x_i) + e_i where e_i standard normal random variable\n",
    "-measure performance by mean squared error R(w) = E(wTX-Y)^2\n",
    "-write program that learns vector w by OLS\n",
    "-write program that learns vector w by GD\n",
    "-write program that learns vector w by SGD\n",
    "-compare performance by mean squared error and running time for multiple n and d and step size n_t"
   ]
  },
  {
   "cell_type": "code",
   "execution_count": 3,
   "metadata": {},
   "outputs": [],
   "source": [
    "#libraries\n",
    "import pandas as pd\n",
    "import numpy as np\n",
    "import random\n",
    "import matplotlib.pyplot as plt\n",
    "\n",
    "path_out_ = r'/home/clarice/Documents/VSCode/Term2_Gabor_ML/homework4/GaborML_problem16/outputs'\n",
    "random.seed(123)"
   ]
  },
  {
   "cell_type": "code",
   "execution_count": 26,
   "metadata": {},
   "outputs": [],
   "source": [
    "#functions\n",
    "\n",
    "def generate_data(n, d):\n",
    "\n",
    "    #covariance matrix\n",
    "    cov = np.identity(d)    \n",
    "    for i in range(d):\n",
    "        cov[i,i] = 1/(i+1)\n",
    "\n",
    "    #x\n",
    "    x = np.random.multivariate_normal(np.zeros(d), cov, n)\n",
    "\n",
    "    #y\n",
    "    y = np.zeros(n)\n",
    "    e = np.random.normal(0, 1, n)\n",
    "    for i in range(n):\n",
    "        y[i] = sum(x[i]) + e[i]\n",
    "\n",
    "    return x, y\n",
    "\n",
    "def solve_OLS(x, y):\n",
    "    n = len(x)\n",
    "    d = len(x[0])\n",
    "\n",
    "    matrix_xx = np.zeros((d,d))\n",
    "    for i in range(n):\n",
    "        add_matrix = np.outer(x[i], x[i].T)\n",
    "        matrix_xx = np.add(matrix_xx, add_matrix)\n",
    "    matrix_xx = np.multiply(1/n, matrix_xx)\n",
    "    matrix_xx = np.linalg.inv(matrix_xx)\n",
    "\n",
    "    vec_xy = np.zeros(d)\n",
    "    for i in range(n):\n",
    "        add_vec = np.multiply(x[i], y[i])\n",
    "        vec_xy = np.add(vec_xy, add_vec)\n",
    "    vec_xy = np.multiply(1/n, vec_xy)\n",
    "\n",
    "    w = np.dot(matrix_xx, vec_xy)\n",
    "    return w\n"
   ]
  },
  {
   "cell_type": "code",
   "execution_count": 51,
   "metadata": {},
   "outputs": [
    {
     "name": "stdout",
     "output_type": "stream",
     "text": [
      "[[0.5 0. ]\n",
      " [0.  1. ]]\n",
      "------------\n",
      "[[0.5 0. ]\n",
      " [0.  1. ]]\n",
      "------------\n",
      "[[8. 0.]\n",
      " [0. 2.]]\n",
      "------------\n",
      "[0.05 0.4 ]\n",
      "------------\n",
      "[0.4 0.8]\n"
     ]
    }
   ],
   "source": [
    "n = 2\n",
    "d = 2\n",
    "\n",
    "x = np.identity(n)\n",
    "x[0,0] = 0.5\n",
    "y = np.zeros(n)\n",
    "y[0] = .2\n",
    "y[1] = .8\n",
    "\n",
    "# x, y = generate_data(n, d)\n",
    "print(x)\n",
    "# print(y)\n",
    "\n",
    "print(\"------------\")\n",
    "# x_t = np.transpose(x)\n",
    "# print(x_t)\n",
    "\n",
    "x_T = x.T\n",
    "print(x_T)\n",
    "\n",
    "print(\"------------\")\n",
    "\n",
    "matrix_xx = np.zeros((d,d))\n",
    "for i in range(n):\n",
    "    add_matrix = np.outer(x[i], x[i].T)\n",
    "    matrix_xx = np.add(matrix_xx, add_matrix)\n",
    "matrix_xx = np.multiply(1/n, matrix_xx)\n",
    "\n",
    "matrix_xx = np.linalg.inv(matrix_xx)\n",
    "print(matrix_xx)\n",
    "\n",
    "print(\"------------\")\n",
    "\n",
    "vec_xy = np.zeros(d)\n",
    "for i in range(n):\n",
    "    add_vec = np.multiply(x[i], y[i])\n",
    "    vec_xy = np.add(vec_xy, add_vec)\n",
    "vec_xy = np.multiply(1/n, vec_xy)\n",
    "print(vec_xy)\n",
    "\n",
    "print(\"------------\")\n",
    "\n",
    "w = np.dot(matrix_xx, vec_xy)\n",
    "print(w)\n",
    "\n"
   ]
  }
 ],
 "metadata": {
  "kernelspec": {
   "display_name": "Python 3",
   "language": "python",
   "name": "python3"
  },
  "language_info": {
   "codemirror_mode": {
    "name": "ipython",
    "version": 3
   },
   "file_extension": ".py",
   "mimetype": "text/x-python",
   "name": "python",
   "nbconvert_exporter": "python",
   "pygments_lexer": "ipython3",
   "version": "3.10.12"
  }
 },
 "nbformat": 4,
 "nbformat_minor": 2
}
